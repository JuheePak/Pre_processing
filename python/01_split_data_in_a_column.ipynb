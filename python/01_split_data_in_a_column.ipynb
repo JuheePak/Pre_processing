{
 "cells": [
  {
   "cell_type": "markdown",
   "id": "5d7e2800-1708-4d28-88c4-6d086013077a",
   "metadata": {},
   "source": [
    "### 하나의 셀에 콤마로 나누어진 데이터 나누기"
   ]
  },
  {
   "cell_type": "code",
   "execution_count": 1,
   "id": "74589a6c-4bb2-4cac-b2af-65996ad7be6d",
   "metadata": {},
   "outputs": [],
   "source": [
    "import pandas as pd"
   ]
  },
  {
   "cell_type": "markdown",
   "id": "2b755688-f7f4-49d0-8125-5b5579aab436",
   "metadata": {},
   "source": [
    "#### 1. 연습용 데이터 생성"
   ]
  },
  {
   "cell_type": "code",
   "execution_count": 4,
   "id": "019bda15-5cfc-4d80-9b37-22d16ed07923",
   "metadata": {},
   "outputs": [
    {
     "data": {
      "text/html": [
       "<div>\n",
       "<style scoped>\n",
       "    .dataframe tbody tr th:only-of-type {\n",
       "        vertical-align: middle;\n",
       "    }\n",
       "\n",
       "    .dataframe tbody tr th {\n",
       "        vertical-align: top;\n",
       "    }\n",
       "\n",
       "    .dataframe thead th {\n",
       "        text-align: right;\n",
       "    }\n",
       "</style>\n",
       "<table border=\"1\" class=\"dataframe\">\n",
       "  <thead>\n",
       "    <tr style=\"text-align: right;\">\n",
       "      <th></th>\n",
       "      <th>words</th>\n",
       "    </tr>\n",
       "  </thead>\n",
       "  <tbody>\n",
       "    <tr>\n",
       "      <th>0</th>\n",
       "      <td>hello,world,python</td>\n",
       "    </tr>\n",
       "    <tr>\n",
       "      <th>1</th>\n",
       "      <td>git,commit,push</td>\n",
       "    </tr>\n",
       "  </tbody>\n",
       "</table>\n",
       "</div>"
      ],
      "text/plain": [
       "                words\n",
       "0  hello,world,python\n",
       "1     git,commit,push"
      ]
     },
     "execution_count": 4,
     "metadata": {},
     "output_type": "execute_result"
    }
   ],
   "source": [
    "df = pd.DataFrame({'words': ['hello,world,python', 'git,commit,push']})\n",
    "df"
   ]
  },
  {
   "cell_type": "markdown",
   "id": "d0f979ea-86a5-465d-823c-df47201fb421",
   "metadata": {},
   "source": [
    "#### 2. 콤마 단위로 분리"
   ]
  },
  {
   "cell_type": "code",
   "execution_count": 5,
   "id": "1b7fb4ab-0c85-4941-9785-877c36a940ec",
   "metadata": {},
   "outputs": [
    {
     "data": {
      "text/plain": [
       "0    [hello, world, python]\n",
       "1       [git, commit, push]\n",
       "Name: words, dtype: object"
      ]
     },
     "execution_count": 5,
     "metadata": {},
     "output_type": "execute_result"
    }
   ],
   "source": [
    "result = df['words'].str.split(',')\n",
    "result"
   ]
  },
  {
   "cell_type": "markdown",
   "id": "13b577ef-bec8-41d5-a2fd-d52ca00698fc",
   "metadata": {},
   "source": [
    "#### 3. apply로 Dataframe으로 변환"
   ]
  },
  {
   "cell_type": "code",
   "execution_count": 7,
   "id": "a2cd7bd9-0f63-4cdf-bdf8-2b1d459eeec7",
   "metadata": {},
   "outputs": [
    {
     "data": {
      "text/html": [
       "<div>\n",
       "<style scoped>\n",
       "    .dataframe tbody tr th:only-of-type {\n",
       "        vertical-align: middle;\n",
       "    }\n",
       "\n",
       "    .dataframe tbody tr th {\n",
       "        vertical-align: top;\n",
       "    }\n",
       "\n",
       "    .dataframe thead th {\n",
       "        text-align: right;\n",
       "    }\n",
       "</style>\n",
       "<table border=\"1\" class=\"dataframe\">\n",
       "  <thead>\n",
       "    <tr style=\"text-align: right;\">\n",
       "      <th></th>\n",
       "      <th>0</th>\n",
       "      <th>1</th>\n",
       "      <th>2</th>\n",
       "    </tr>\n",
       "  </thead>\n",
       "  <tbody>\n",
       "    <tr>\n",
       "      <th>0</th>\n",
       "      <td>hello</td>\n",
       "      <td>world</td>\n",
       "      <td>python</td>\n",
       "    </tr>\n",
       "    <tr>\n",
       "      <th>1</th>\n",
       "      <td>git</td>\n",
       "      <td>commit</td>\n",
       "      <td>push</td>\n",
       "    </tr>\n",
       "  </tbody>\n",
       "</table>\n",
       "</div>"
      ],
      "text/plain": [
       "       0       1       2\n",
       "0  hello   world  python\n",
       "1    git  commit    push"
      ]
     },
     "execution_count": 7,
     "metadata": {},
     "output_type": "execute_result"
    }
   ],
   "source": [
    "result = result.apply(lambda x: pd.Series(x))\n",
    "result"
   ]
  },
  {
   "cell_type": "markdown",
   "id": "87af951f-76d8-4ea6-9f44-7d6ff02b200c",
   "metadata": {},
   "source": [
    "#### 4. stack()을 활용해 컬럼을 행으로 바꿔줌\n",
    "##### 멀티인덱스를 가진 series가 됨"
   ]
  },
  {
   "cell_type": "code",
   "execution_count": 8,
   "id": "c4353d27-ffa8-4542-ae94-3fa09e3b5d77",
   "metadata": {},
   "outputs": [
    {
     "data": {
      "text/plain": [
       "0  0     hello\n",
       "   1     world\n",
       "   2    python\n",
       "1  0       git\n",
       "   1    commit\n",
       "   2      push\n",
       "dtype: object"
      ]
     },
     "execution_count": 8,
     "metadata": {},
     "output_type": "execute_result"
    }
   ],
   "source": [
    "result.stack()"
   ]
  },
  {
   "cell_type": "code",
   "execution_count": 10,
   "id": "b1eabb8d-635d-45b9-b2dd-dcb96f9b0608",
   "metadata": {},
   "outputs": [
    {
     "data": {
      "text/plain": [
       "0     hello\n",
       "0     world\n",
       "0    python\n",
       "1       git\n",
       "1    commit\n",
       "1      push\n",
       "dtype: object"
      ]
     },
     "execution_count": 10,
     "metadata": {},
     "output_type": "execute_result"
    }
   ],
   "source": [
    "result.stack().reset_index(level=1, drop=True)"
   ]
  },
  {
   "cell_type": "markdown",
   "id": "e9752bca-39ca-4879-9108-e1de02aea310",
   "metadata": {},
   "source": [
    "#### 5. 데이터 프레임으로 변환"
   ]
  },
  {
   "cell_type": "code",
   "execution_count": 11,
   "id": "bea98176-67ea-4922-92a8-2efc248d68cf",
   "metadata": {},
   "outputs": [
    {
     "data": {
      "text/html": [
       "<div>\n",
       "<style scoped>\n",
       "    .dataframe tbody tr th:only-of-type {\n",
       "        vertical-align: middle;\n",
       "    }\n",
       "\n",
       "    .dataframe tbody tr th {\n",
       "        vertical-align: top;\n",
       "    }\n",
       "\n",
       "    .dataframe thead th {\n",
       "        text-align: right;\n",
       "    }\n",
       "</style>\n",
       "<table border=\"1\" class=\"dataframe\">\n",
       "  <thead>\n",
       "    <tr style=\"text-align: right;\">\n",
       "      <th></th>\n",
       "      <th>words</th>\n",
       "    </tr>\n",
       "  </thead>\n",
       "  <tbody>\n",
       "    <tr>\n",
       "      <th>0</th>\n",
       "      <td>hello</td>\n",
       "    </tr>\n",
       "    <tr>\n",
       "      <th>0</th>\n",
       "      <td>world</td>\n",
       "    </tr>\n",
       "    <tr>\n",
       "      <th>0</th>\n",
       "      <td>python</td>\n",
       "    </tr>\n",
       "    <tr>\n",
       "      <th>1</th>\n",
       "      <td>git</td>\n",
       "    </tr>\n",
       "    <tr>\n",
       "      <th>1</th>\n",
       "      <td>commit</td>\n",
       "    </tr>\n",
       "    <tr>\n",
       "      <th>1</th>\n",
       "      <td>push</td>\n",
       "    </tr>\n",
       "  </tbody>\n",
       "</table>\n",
       "</div>"
      ],
      "text/plain": [
       "    words\n",
       "0   hello\n",
       "0   world\n",
       "0  python\n",
       "1     git\n",
       "1  commit\n",
       "1    push"
      ]
     },
     "execution_count": 11,
     "metadata": {},
     "output_type": "execute_result"
    }
   ],
   "source": [
    "result = result.stack().reset_index(level=1, drop=True).to_frame('words')\n",
    "result"
   ]
  },
  {
   "cell_type": "markdown",
   "id": "fd384f81-e7db-44f1-ade2-ce6fc4137397",
   "metadata": {},
   "source": [
    "#### 6. 원본 데이터프레임과 다시 merging"
   ]
  },
  {
   "cell_type": "code",
   "execution_count": 12,
   "id": "746eabd8-ed24-41b9-bf19-142b28eabb32",
   "metadata": {},
   "outputs": [
    {
     "data": {
      "text/html": [
       "<div>\n",
       "<style scoped>\n",
       "    .dataframe tbody tr th:only-of-type {\n",
       "        vertical-align: middle;\n",
       "    }\n",
       "\n",
       "    .dataframe tbody tr th {\n",
       "        vertical-align: top;\n",
       "    }\n",
       "\n",
       "    .dataframe thead th {\n",
       "        text-align: right;\n",
       "    }\n",
       "</style>\n",
       "<table border=\"1\" class=\"dataframe\">\n",
       "  <thead>\n",
       "    <tr style=\"text-align: right;\">\n",
       "      <th></th>\n",
       "      <th>words_x</th>\n",
       "      <th>words_y</th>\n",
       "    </tr>\n",
       "  </thead>\n",
       "  <tbody>\n",
       "    <tr>\n",
       "      <th>0</th>\n",
       "      <td>hello,world,python</td>\n",
       "      <td>hello</td>\n",
       "    </tr>\n",
       "    <tr>\n",
       "      <th>0</th>\n",
       "      <td>hello,world,python</td>\n",
       "      <td>world</td>\n",
       "    </tr>\n",
       "    <tr>\n",
       "      <th>0</th>\n",
       "      <td>hello,world,python</td>\n",
       "      <td>python</td>\n",
       "    </tr>\n",
       "    <tr>\n",
       "      <th>1</th>\n",
       "      <td>git,commit,push</td>\n",
       "      <td>git</td>\n",
       "    </tr>\n",
       "    <tr>\n",
       "      <th>1</th>\n",
       "      <td>git,commit,push</td>\n",
       "      <td>commit</td>\n",
       "    </tr>\n",
       "    <tr>\n",
       "      <th>1</th>\n",
       "      <td>git,commit,push</td>\n",
       "      <td>push</td>\n",
       "    </tr>\n",
       "  </tbody>\n",
       "</table>\n",
       "</div>"
      ],
      "text/plain": [
       "              words_x words_y\n",
       "0  hello,world,python   hello\n",
       "0  hello,world,python   world\n",
       "0  hello,world,python  python\n",
       "1     git,commit,push     git\n",
       "1     git,commit,push  commit\n",
       "1     git,commit,push    push"
      ]
     },
     "execution_count": 12,
     "metadata": {},
     "output_type": "execute_result"
    }
   ],
   "source": [
    "result = df.merge(result, left_index=True, right_index=True, how='left')\n",
    "result"
   ]
  },
  {
   "cell_type": "code",
   "execution_count": null,
   "id": "6856a9e5-c370-49b0-8307-c4c977131921",
   "metadata": {},
   "outputs": [],
   "source": []
  }
 ],
 "metadata": {
  "kernelspec": {
   "display_name": "Python 3",
   "language": "python",
   "name": "python3"
  },
  "language_info": {
   "codemirror_mode": {
    "name": "ipython",
    "version": 3
   },
   "file_extension": ".py",
   "mimetype": "text/x-python",
   "name": "python",
   "nbconvert_exporter": "python",
   "pygments_lexer": "ipython3",
   "version": "3.8.5"
  }
 },
 "nbformat": 4,
 "nbformat_minor": 5
}

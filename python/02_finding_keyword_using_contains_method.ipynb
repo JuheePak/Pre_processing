{
 "cells": [
  {
   "cell_type": "markdown",
   "id": "71aba3b2-577d-4d90-8378-e8f62f14ae7c",
   "metadata": {},
   "source": [
    "### contains 함수 사용\n",
    "#### 특정 키워드가 포함되어 있는 레코드 추출"
   ]
  },
  {
   "cell_type": "code",
   "execution_count": 1,
   "id": "d8d3ff75-9862-4bdd-9a9e-aec55606ef7a",
   "metadata": {},
   "outputs": [],
   "source": [
    "import pandas as pd"
   ]
  },
  {
   "cell_type": "code",
   "execution_count": 10,
   "id": "7811aeae-0319-418d-bbee-82f5ce88df00",
   "metadata": {},
   "outputs": [
    {
     "data": {
      "text/html": [
       "<div>\n",
       "<style scoped>\n",
       "    .dataframe tbody tr th:only-of-type {\n",
       "        vertical-align: middle;\n",
       "    }\n",
       "\n",
       "    .dataframe tbody tr th {\n",
       "        vertical-align: top;\n",
       "    }\n",
       "\n",
       "    .dataframe thead th {\n",
       "        text-align: right;\n",
       "    }\n",
       "</style>\n",
       "<table border=\"1\" class=\"dataframe\">\n",
       "  <thead>\n",
       "    <tr style=\"text-align: right;\">\n",
       "      <th></th>\n",
       "      <th>col1</th>\n",
       "      <th>col2</th>\n",
       "    </tr>\n",
       "  </thead>\n",
       "  <tbody>\n",
       "    <tr>\n",
       "      <th>0</th>\n",
       "      <td>1</td>\n",
       "      <td>서울특별시</td>\n",
       "    </tr>\n",
       "    <tr>\n",
       "      <th>1</th>\n",
       "      <td>2</td>\n",
       "      <td>서울시</td>\n",
       "    </tr>\n",
       "    <tr>\n",
       "      <th>2</th>\n",
       "      <td>3</td>\n",
       "      <td>인천광역시</td>\n",
       "    </tr>\n",
       "    <tr>\n",
       "      <th>3</th>\n",
       "      <td>4</td>\n",
       "      <td>서울</td>\n",
       "    </tr>\n",
       "    <tr>\n",
       "      <th>4</th>\n",
       "      <td>5</td>\n",
       "      <td>부산</td>\n",
       "    </tr>\n",
       "  </tbody>\n",
       "</table>\n",
       "</div>"
      ],
      "text/plain": [
       "   col1   col2\n",
       "0     1  서울특별시\n",
       "1     2    서울시\n",
       "2     3  인천광역시\n",
       "3     4     서울\n",
       "4     5     부산"
      ]
     },
     "execution_count": 10,
     "metadata": {},
     "output_type": "execute_result"
    }
   ],
   "source": [
    "dict_test = {\n",
    "    'col1': [1, 2, 3, 4, 5, 6],\n",
    "    'col2': ['서울특별시', '서울시', '인천광역시', '서울', '부산', '부산광역시']}\n",
    "df_test = pd.DataFrame(dict_test)\n",
    "df_test.head()"
   ]
  },
  {
   "cell_type": "code",
   "execution_count": 11,
   "id": "6eb9d4aa-37de-4216-a271-f4beb8a39333",
   "metadata": {},
   "outputs": [
    {
     "data": {
      "text/plain": [
       "0     True\n",
       "1     True\n",
       "2    False\n",
       "3     True\n",
       "4    False\n",
       "Name: col2, dtype: bool"
      ]
     },
     "execution_count": 11,
     "metadata": {},
     "output_type": "execute_result"
    }
   ],
   "source": [
    "s = df_test.loc[:, 'col2'] # 필요한 칼럼만 자르기\n",
    "s = s.str.contains('서울+', case=False, regex=True) # Series에 있는 값 중 a가 1개 이상 포함되면 True return\n",
    "s.head() # 서울이 포함된 레코드는 True 반환"
   ]
  },
  {
   "cell_type": "markdown",
   "id": "1b05e533-4510-45ef-b013-0963c8f87a5a",
   "metadata": {},
   "source": [
    "#### 키워드 '서울'을 포함하는 칼럼만 추출\n",
    "#### - 인덱스 정보를 포함하고 있음"
   ]
  },
  {
   "cell_type": "code",
   "execution_count": 14,
   "id": "8a641137-2e5d-4280-8cc2-e0d55a44e7f2",
   "metadata": {},
   "outputs": [
    {
     "name": "stdout",
     "output_type": "stream",
     "text": [
      "   col1   col2\n",
      "0     1  서울특별시\n",
      "1     2    서울시\n",
      "3     4     서울\n"
     ]
    }
   ],
   "source": [
    "df_test = df_test.loc[s, :]\n",
    "print(df_test)"
   ]
  },
  {
   "cell_type": "code",
   "execution_count": null,
   "id": "cb2b9c64-0261-4265-aa27-6824babb0367",
   "metadata": {},
   "outputs": [],
   "source": []
  },
  {
   "cell_type": "code",
   "execution_count": null,
   "id": "dfa14b4f-8a26-4a7e-82dc-e7b57ab0d09b",
   "metadata": {},
   "outputs": [],
   "source": []
  },
  {
   "cell_type": "code",
   "execution_count": null,
   "id": "e55a20fd-192e-4d37-8f44-dbf55885ad24",
   "metadata": {},
   "outputs": [],
   "source": []
  },
  {
   "cell_type": "code",
   "execution_count": null,
   "id": "4ec784bd-af1f-4c78-b469-392f31cc6b15",
   "metadata": {},
   "outputs": [],
   "source": []
  }
 ],
 "metadata": {
  "kernelspec": {
   "display_name": "Python 3",
   "language": "python",
   "name": "python3"
  },
  "language_info": {
   "codemirror_mode": {
    "name": "ipython",
    "version": 3
   },
   "file_extension": ".py",
   "mimetype": "text/x-python",
   "name": "python",
   "nbconvert_exporter": "python",
   "pygments_lexer": "ipython3",
   "version": "3.8.5"
  }
 },
 "nbformat": 4,
 "nbformat_minor": 5
}
